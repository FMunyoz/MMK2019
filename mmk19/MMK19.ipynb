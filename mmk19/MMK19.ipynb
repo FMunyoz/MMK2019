{
 "cells": [
  {
   "cell_type": "code",
   "execution_count": null,
   "metadata": {},
   "outputs": [],
   "source": [
    "from keras import Sequential\n",
    "from keras.layers import LSTM, Dropout, Dense, Activation, TimeDistributed\n",
    "import librosa\n",
    "import librosa.display\n",
    "import matplotlib.pyplot as plot\n",
    "import IPython.display as ipd\n",
    "import pylab\n",
    "import pandas as pd\n",
    "import numpy as np\n"
   ]
  },
  {
   "cell_type": "code",
   "execution_count": null,
   "metadata": {},
   "outputs": [],
   "source": [
    "filename = \"../data/tracks/unmastered/pianosolo_unmastered_001.wav\"\n",
    "filename_mastered = \"../data/tracks/mastered/pianosolo_mastered_001_var1.wav\"\n",
    "y, sr = librosa.load(filename, sr=44100, mono=False)\n",
    "y.shape"
   ]
  },
  {
   "cell_type": "code",
   "execution_count": null,
   "metadata": {},
   "outputs": [],
   "source": [
    "y = librosa.to_mono(y)\n",
    "print(\"sr:\", sr)\n",
    "y.shape\n",
    "\n"
   ]
  },
  {
   "cell_type": "code",
   "execution_count": null,
   "metadata": {},
   "outputs": [],
   "source": [
    "ipd.Audio(filename)"
   ]
  },
  {
   "cell_type": "code",
   "execution_count": null,
   "metadata": {},
   "outputs": [],
   "source": [
    "ipd.Audio(filename_mastered)"
   ]
  },
  {
   "cell_type": "code",
   "execution_count": null,
   "metadata": {},
   "outputs": [],
   "source": [
    "hop_length = 512\n",
    "n_fft = 2048\n",
    "\n",
    "\n",
    "stftSource = librosa.stft(y, n_fft=n_fft, hop_length=hop_length).T\n",
    "stftTarget = librosa.stft(ym, n_fft=n_fft, hop_length=hop_length).T\n",
    "\n",
    "stftSource.shape\n",
    "\n",
    "\n"
   ]
  },
  {
   "cell_type": "code",
   "execution_count": null,
   "metadata": {},
   "outputs": [],
   "source": [
    "unmasteredDf = pd.DataFrame(data=stftSource, index=np.array(range(0,2611)), columns=np.array(range(0,1025)))\n",
    "masteredDf = pd.DataFrame(data=stftTarget, index=np.array(range(0,2611)), columns=np.array(range(0,1025)))"
   ]
  },
  {
   "cell_type": "code",
   "execution_count": null,
   "metadata": {},
   "outputs": [],
   "source": [
    "x_train = unmasteredDf.loc[:2611,].values\n",
    "x_test = unmasteredDf.loc[:2611,].values\n",
    "y_train = masteredDf.loc[:2611,].values\n",
    "y_test = masteredDf.loc[:2611,].values"
   ]
  },
  {
   "cell_type": "code",
   "execution_count": null,
   "metadata": {},
   "outputs": [],
   "source": [
    "print(x_train)"
   ]
  },
  {
   "cell_type": "code",
   "execution_count": null,
   "metadata": {},
   "outputs": [],
   "source": [
    "\n",
    "\n",
    "x_train = x_train.view(dtype=np.float32)[:, None]\n",
    "x_test = x_test.view(dtype=np.float32)[:, None]\n",
    "y_train = y_train.view(dtype=np.float32)[:, None]\n",
    "y_test = y_test.view(dtype=np.float32)[:, None]\n",
    "\n",
    "x_train.shape\n"
   ]
  },
  {
   "cell_type": "code",
   "execution_count": null,
   "metadata": {},
   "outputs": [],
   "source": [
    "x_train"
   ]
  },
  {
   "cell_type": "code",
   "execution_count": null,
   "metadata": {},
   "outputs": [],
   "source": [
    "import keras.backend as K\n",
    "from keras.callbacks import EarlyStopping"
   ]
  },
  {
   "cell_type": "code",
   "execution_count": null,
   "metadata": {},
   "outputs": [],
   "source": [
    "K.clear_session()\n",
    "model = Sequential()\n",
    "model.add(LSTM(2050, return_sequences=True, input_shape=(1,2050)))\n",
    "model.add(Dense(2050))\n",
    "model.compile(loss='mean_squared_error', optimizer='adam')\n",
    "model.summary()"
   ]
  },
  {
   "cell_type": "code",
   "execution_count": null,
   "metadata": {},
   "outputs": [],
   "source": [
    "early_stop = EarlyStopping(monitor='loss', patience=4, verbose=1)"
   ]
  },
  {
   "cell_type": "code",
   "execution_count": null,
   "metadata": {},
   "outputs": [],
   "source": [
    "model.fit(x_train, y_train, epochs=200, batch_size=1, verbose=1, callbacks=[early_stop])"
   ]
  },
  {
   "cell_type": "code",
   "execution_count": null,
   "metadata": {},
   "outputs": [],
   "source": [
    "#save model \n",
    "model_json = model.to_json() \n",
    "with open('../data/model_LSTM.json','w') as json_file:\n",
    "    json_file.write(model_json)\n",
    "\n",
    "model.save_weights('../data/model_LSTM.h5')"
   ]
  },
  {
   "cell_type": "code",
   "execution_count": null,
   "metadata": {},
   "outputs": [],
   "source": [
    "#load model\n",
    "from keras.models import model_from_json\n",
    "K.clear_session()\n",
    "json_file = open('../data/model_LSTM.json','r')\n",
    "loaded_model_json = json_file.read()\n",
    "json_file.close()\n",
    "loaded_model = model_from_json(loaded_model_json)\n",
    "loaded_model.load_weights(\"../data/model_LSTM.h5\")\n",
    "loaded_model.compile(loss='mean_squared_error', optimizer='adam')\n",
    "loaded_model.summary()"
   ]
  },
  {
   "cell_type": "code",
   "execution_count": null,
   "metadata": {},
   "outputs": [],
   "source": [
    "loaded_model.fit(x_train, y_train, epochs=1, batch_size=1, verbose=1, callbacks=[early_stop])"
   ]
  },
  {
   "cell_type": "code",
   "execution_count": null,
   "metadata": {},
   "outputs": [],
   "source": [
    "print(y_train)"
   ]
  },
  {
   "cell_type": "code",
   "execution_count": null,
   "metadata": {},
   "outputs": [],
   "source": [
    "y_pred = loaded_model.predict(x_test)\n",
    "y_pred = np.squeeze(y_pred, axis=1)\n",
    "print(y_pred)"
   ]
  },
  {
   "cell_type": "code",
   "execution_count": null,
   "metadata": {},
   "outputs": [],
   "source": [
    "y_pred.shape"
   ]
  },
  {
   "cell_type": "code",
   "execution_count": null,
   "metadata": {},
   "outputs": [],
   "source": [
    "y_pred_complex =  []\n",
    "type(y_pred_complex)"
   ]
  },
  {
   "cell_type": "code",
   "execution_count": null,
   "metadata": {},
   "outputs": [],
   "source": [
    "for x in range(0, 1307, 1):\n",
    "    for y in range(0,2050,2):\n",
    "        y_pred_complex.append(np.complex(y_pred[x,y], y_pred[x,y+1]))\n",
    "        \n",
    "print(y_pred_complex)"
   ]
  },
  {
   "cell_type": "code",
   "execution_count": null,
   "metadata": {},
   "outputs": [],
   "source": [
    "y_pred_complex = np.array(y_pred_complex)\n",
    "y_pred_complex = y_pred_complex.reshape(1307, 1025)"
   ]
  },
  {
   "cell_type": "code",
   "execution_count": null,
   "metadata": {},
   "outputs": [],
   "source": [
    "x = librosa.istft(y_pred_complex.T, hop_length=hop_length)\n",
    "filename_output='../data/output/pianosolo_mastered_001.wav'\n",
    "librosa.output.write_wav(filename_output, x, sr)"
   ]
  },
  {
   "cell_type": "code",
   "execution_count": null,
   "metadata": {},
   "outputs": [],
   "source": [
    "ipd.Audio(filename_output)"
   ]
  },
  {
   "cell_type": "code",
   "execution_count": null,
   "metadata": {},
   "outputs": [],
   "source": []
  }
 ],
 "metadata": {
  "kernelspec": {
   "display_name": "Python 2",
   "language": "python",
   "name": "python2"
  },
  "language_info": {
   "codemirror_mode": {
    "name": "ipython",
    "version": 2
   },
   "file_extension": ".py",
   "mimetype": "text/x-python",
   "name": "python",
   "nbconvert_exporter": "python",
   "pygments_lexer": "ipython2",
   "version": "2.7.15"
  }
 },
 "nbformat": 4,
 "nbformat_minor": 1
}
